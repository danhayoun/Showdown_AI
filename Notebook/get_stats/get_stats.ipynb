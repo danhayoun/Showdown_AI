{
 "cells": [
  {
   "attachments": {},
   "cell_type": "markdown",
   "metadata": {},
   "source": [
    "***On va récupérer les stats des pokés***"
   ]
  },
  {
   "cell_type": "code",
   "execution_count": 2,
   "metadata": {},
   "outputs": [
    {
     "name": "stdout",
     "output_type": "stream",
     "text": [
      "Répertoire actuel : /Users/dan2/Desktop/Télécom-master-spé/Projets_perso/Deep/Showdown_AI/my_showdown_ai_git\n"
     ]
    }
   ],
   "source": [
    "#1 on se place \n",
    "import os\n",
    "import ipynbname\n",
    "\n",
    "chemin_notebook = ipynbname.path()\n",
    "dossier_notebook = os.path.dirname(chemin_notebook)\n",
    "os.chdir(dossier_notebook)\n",
    "os.chdir('../..')\n",
    "print(\"Répertoire actuel :\", os.getcwd())"
   ]
  },
  {
   "cell_type": "code",
   "execution_count": 3,
   "metadata": {},
   "outputs": [],
   "source": [
    "import json\n",
    "with open(\"json/sets.json\", \"r\", encoding=\"utf-8\") as f:\n",
    "    dict_sets = json.load(f)"
   ]
  },
  {
   "attachments": {},
   "cell_type": "markdown",
   "metadata": {},
   "source": [
    "296 pokés possibles (omg)"
   ]
  },
  {
   "cell_type": "code",
   "execution_count": 4,
   "metadata": {},
   "outputs": [
    {
     "name": "stdout",
     "output_type": "stream",
     "text": [
      "dict_keys(['venusaur', 'charizard', 'blastoise', 'butterfree', 'beedrill', 'pidgeot', 'raticate', 'fearow', 'arbok', 'pikachu', 'raichu', 'sandslash', 'nidoqueen', 'nidoking', 'clefable', 'ninetales', 'wigglytuff', 'vileplume', 'parasect', 'venomoth', 'dugtrio', 'persian', 'golduck', 'primeape', 'arcanine', 'poliwrath', 'alakazam', 'machamp', 'victreebel', 'tentacruel', 'golem', 'rapidash', 'slowbro', 'farfetchd', 'dodrio', 'dewgong', 'muk', 'cloyster', 'gengar', 'hypno', 'kingler', 'electrode', 'exeggutor', 'marowak', 'hitmonlee', 'hitmonchan', 'weezing', 'kangaskhan', 'seaking', 'starmie', 'mrmime', 'scyther', 'jynx', 'pinsir', 'tauros', 'gyarados', 'lapras', 'ditto', 'vaporeon', 'jolteon', 'flareon', 'omastar', 'kabutops', 'aerodactyl', 'snorlax', 'articuno', 'zapdos', 'moltres', 'dragonite', 'mewtwo', 'mew', 'meganium', 'typhlosion', 'feraligatr', 'furret', 'noctowl', 'ledian', 'ariados', 'crobat', 'lanturn', 'xatu', 'ampharos', 'bellossom', 'azumarill', 'sudowoodo', 'politoed', 'jumpluff', 'sunflora', 'quagsire', 'espeon', 'umbreon', 'slowking', 'unown', 'wobbuffet', 'girafarig', 'forretress', 'dunsparce', 'steelix', 'granbull', 'qwilfish', 'scizor', 'shuckle', 'heracross', 'ursaring', 'magcargo', 'corsola', 'octillery', 'delibird', 'mantine', 'skarmory', 'houndoom', 'kingdra', 'donphan', 'porygon2', 'stantler', 'smeargle', 'hitmontop', 'miltank', 'blissey', 'raikou', 'entei', 'suicune', 'tyranitar', 'lugia', 'hooh', 'celebi', 'sceptile', 'blaziken', 'swampert', 'mightyena', 'linoone', 'beautifly', 'dustox', 'ludicolo', 'shiftry', 'swellow', 'pelipper', 'gardevoir', 'masquerain', 'breloom', 'vigoroth', 'slaking', 'ninjask', 'shedinja', 'exploud', 'hariyama', 'delcatty', 'sableye', 'mawile', 'aggron', 'medicham', 'manectric', 'plusle', 'minun', 'volbeat', 'illumise', 'swalot', 'sharpedo', 'wailord', 'camerupt', 'torkoal', 'grumpig', 'spinda', 'flygon', 'cacturne', 'altaria', 'zangoose', 'seviper', 'lunatone', 'solrock', 'whiscash', 'crawdaunt', 'claydol', 'cradily', 'armaldo', 'milotic', 'castform', 'kecleon', 'banette', 'tropius', 'chimecho', 'absol', 'glalie', 'walrein', 'huntail', 'gorebyss', 'relicanth', 'luvdisc', 'salamence', 'metagross', 'regirock', 'regice', 'registeel', 'latias', 'latios', 'kyogre', 'groudon', 'rayquaza', 'jirachi', 'deoxys', 'deoxysattack', 'deoxysdefense', 'deoxysspeed', 'torterra', 'infernape', 'empoleon', 'staraptor', 'bibarel', 'kricketune', 'luxray', 'roserade', 'rampardos', 'bastiodon', 'wormadam', 'wormadamsandy', 'wormadamtrash', 'mothim', 'vespiquen', 'pachirisu', 'floatzel', 'cherrim', 'gastrodon', 'ambipom', 'drifblim', 'lopunny', 'mismagius', 'honchkrow', 'purugly', 'skuntank', 'bronzong', 'chatot', 'spiritomb', 'garchomp', 'lucario', 'hippowdon', 'drapion', 'toxicroak', 'carnivine', 'lumineon', 'abomasnow', 'weavile', 'magnezone', 'lickilicky', 'rhyperior', 'tangrowth', 'electivire', 'magmortar', 'togekiss', 'yanmega', 'leafeon', 'glaceon', 'gliscor', 'mamoswine', 'porygonz', 'gallade', 'probopass', 'dusknoir', 'froslass', 'rotom', 'rotomheat', 'rotomwash', 'rotomfrost', 'rotomfan', 'rotommow', 'uxie', 'mesprit', 'azelf', 'dialga', 'palkia', 'heatran', 'regigigas', 'giratinaorigin', 'giratina', 'cresselia', 'phione', 'manaphy', 'darkrai', 'shaymin', 'shayminsky', 'arceus', 'arceusbug', 'arceusdark', 'arceusdragon', 'arceuselectric', 'arceusfighting', 'arceusfire', 'arceusflying', 'arceusghost', 'arceusgrass', 'arceusground', 'arceusice', 'arceuspoison', 'arceuspsychic', 'arceusrock', 'arceussteel', 'arceuswater'])\n"
     ]
    }
   ],
   "source": [
    "print(dict_sets.keys())"
   ]
  },
  {
   "cell_type": "code",
   "execution_count": 5,
   "metadata": {},
   "outputs": [
    {
     "name": "stdout",
     "output_type": "stream",
     "text": [
      "{'level': 83, 'sets': [{'role': 'Staller', 'movepool': ['leechseed', 'powerwhip', 'sleeppowder', 'sludgebomb', 'substitute'], 'abilities': ['Overgrow']}, {'role': 'Bulky Attacker', 'movepool': ['earthquake', 'leafstorm', 'sleeppowder', 'sludgebomb', 'synthesis'], 'abilities': ['Overgrow']}]}\n"
     ]
    }
   ],
   "source": [
    "print(dict_sets[\"venusaur\"])"
   ]
  },
  {
   "cell_type": "code",
   "execution_count": 6,
   "metadata": {},
   "outputs": [
    {
     "name": "stdout",
     "output_type": "stream",
     "text": [
      "dark\n"
     ]
    }
   ],
   "source": [
    "from poke_env.environment.pokemon import Pokemon\n",
    "\n",
    "\n",
    "p = Pokemon(gen=4, species=\"absol\")\n",
    "\n",
    "print(p.type_1.name.lower())"
   ]
  },
  {
   "cell_type": "code",
   "execution_count": 7,
   "metadata": {},
   "outputs": [
    {
     "name": "stdout",
     "output_type": "stream",
     "text": [
      "<class 'str'>\n"
     ]
    }
   ],
   "source": [
    "print(type(p.species))"
   ]
  },
  {
   "cell_type": "code",
   "execution_count": 8,
   "metadata": {},
   "outputs": [
    {
     "name": "stdout",
     "output_type": "stream",
     "text": [
      "absol\n"
     ]
    }
   ],
   "source": [
    "print(p.species)"
   ]
  },
  {
   "cell_type": "code",
   "execution_count": 9,
   "metadata": {},
   "outputs": [
    {
     "name": "stdout",
     "output_type": "stream",
     "text": [
      "0\n"
     ]
    }
   ],
   "source": [
    "print(p.current_hp)"
   ]
  },
  {
   "cell_type": "code",
   "execution_count": 10,
   "metadata": {},
   "outputs": [
    {
     "name": "stdout",
     "output_type": "stream",
     "text": [
      "{'atk': 130, 'def': 60, 'hp': 65, 'spa': 75, 'spd': 60, 'spe': 75}\n"
     ]
    }
   ],
   "source": [
    "from poke_env.data import GenData\n",
    "gen_data = GenData.from_gen(4)  # Gen 4\n",
    "stats = gen_data.pokedex[p.species][\"baseStats\"]\n",
    "\n",
    "print(stats)"
   ]
  },
  {
   "cell_type": "code",
   "execution_count": 11,
   "metadata": {},
   "outputs": [
    {
     "name": "stdout",
     "output_type": "stream",
     "text": [
      "[130.  60.  75.  60.  75.]\n",
      "65\n",
      "100\n"
     ]
    }
   ],
   "source": [
    "import numpy as np\n",
    "hp = stats[\"hp\"]\n",
    "\n",
    "order = ['atk', 'def', 'spa', 'spd', 'spe']\n",
    "static_stats = np.array([stats[k] for k in order], dtype=np.float32)\n",
    "\n",
    "print(static_stats)\n",
    "print(hp)\n",
    "print(p.level)"
   ]
  },
  {
   "cell_type": "code",
   "execution_count": 12,
   "metadata": {},
   "outputs": [],
   "source": [
    "static_stats = np.floor(((2 * static_stats + 31 + (85 // 4)) * p.level) / 100 + 5)"
   ]
  },
  {
   "cell_type": "code",
   "execution_count": 13,
   "metadata": {},
   "outputs": [
    {
     "name": "stdout",
     "output_type": "stream",
     "text": [
      "[317. 177. 207. 177. 207.]\n"
     ]
    }
   ],
   "source": [
    "print(static_stats)"
   ]
  },
  {
   "cell_type": "code",
   "execution_count": 14,
   "metadata": {},
   "outputs": [],
   "source": [
    "import math"
   ]
  },
  {
   "cell_type": "code",
   "execution_count": 15,
   "metadata": {},
   "outputs": [],
   "source": [
    "def get_stats(p) :\n",
    "    v = np.zeros(6)\n",
    "    base_stats = gen_data.pokedex[p.species][\"baseStats\"]\n",
    "\n",
    "    hp = base_stats[\"hp\"]\n",
    "    order = ['atk', 'def', 'spa', 'spd', 'spe']\n",
    "    static_stats = np.array([base_stats[k] for k in order], dtype=np.float32)\n",
    "\n",
    "    hp = int(math.floor(((2 * hp + 31 + (85 // 4)) * p.level) / 100 + p.level + 10)) #Je fais confiance à p.level, j'espère il va pas me décevoir :O\n",
    "    static_stats = np.floor(((2 * static_stats + 31 + (85 // 4)) * p.level) / 100 + 5)\n",
    "\n",
    "    v[0] = hp\n",
    "    v[-5:] = static_stats\n",
    "\n",
    "    return v "
   ]
  },
  {
   "cell_type": "code",
   "execution_count": 16,
   "metadata": {},
   "outputs": [
    {
     "name": "stdout",
     "output_type": "stream",
     "text": [
      "[292. 317. 177. 207. 177. 207.]\n"
     ]
    }
   ],
   "source": [
    "print(get_stats(p))"
   ]
  },
  {
   "attachments": {},
   "cell_type": "markdown",
   "metadata": {},
   "source": [
    "***get_stats fonctionnel*** "
   ]
  }
 ],
 "metadata": {
  "kernelspec": {
   "display_name": "showdown_4",
   "language": "python",
   "name": "python3"
  },
  "language_info": {
   "codemirror_mode": {
    "name": "ipython",
    "version": 3
   },
   "file_extension": ".py",
   "mimetype": "text/x-python",
   "name": "python",
   "nbconvert_exporter": "python",
   "pygments_lexer": "ipython3",
   "version": "3.11.6"
  },
  "orig_nbformat": 4,
  "vscode": {
   "interpreter": {
    "hash": "33e7e3701f48ebda16bcd6f46fe6335779fe7b4b5fe34aacb01951541666ec3f"
   }
  }
 },
 "nbformat": 4,
 "nbformat_minor": 2
}
