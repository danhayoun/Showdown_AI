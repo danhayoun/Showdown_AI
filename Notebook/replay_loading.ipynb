{
 "cells": [
  {
   "attachments": {},
   "cell_type": "markdown",
   "metadata": {},
   "source": [
    "https://poke-env.readthedocs.io/en/stable/modules/battle.html"
   ]
  },
  {
   "attachments": {},
   "cell_type": "markdown",
   "metadata": {},
   "source": [
    "classpoke_env.environment.abstract_battle.AbstractBattle(battle_tag: str, username: str, logger: Logger, save_replays: str | bool, gen: int)"
   ]
  },
  {
   "attachments": {},
   "cell_type": "markdown",
   "metadata": {},
   "source": [
    "On va tenter de parser ce replay : https://replay.pokemonshowdown.com/gen8randombattle-1123651831.log afin d'en obtenir un objet battle (enfin un seul avec ses différents états à chaque tour). Ensuite, lancer le battle (on verra comment) pour vérifier que ça marche bien. Fichier contenu dans \"data/first_replay.txt\""
   ]
  },
  {
   "cell_type": "code",
   "execution_count": 1,
   "metadata": {
    "vscode": {
     "languageId": "python"
    }
   },
   "outputs": [],
   "source": [
    "import poke_env"
   ]
  },
  {
   "cell_type": "code",
   "execution_count": 2,
   "metadata": {
    "vscode": {
     "languageId": "python"
    }
   },
   "outputs": [
    {
     "name": "stdout",
     "output_type": "stream",
     "text": [
      "/Users/dan2/.pyenv/versions/venv/bin/python\n"
     ]
    }
   ],
   "source": [
    "!which python"
   ]
  },
  {
   "cell_type": "code",
   "execution_count": 3,
   "metadata": {
    "vscode": {
     "languageId": "python"
    }
   },
   "outputs": [],
   "source": [
    "import pandas as pd\n",
    "from poke_env.environment.battle import Battle"
   ]
  },
  {
   "cell_type": "code",
   "execution_count": 9,
   "metadata": {
    "vscode": {
     "languageId": "python"
    }
   },
   "outputs": [
    {
     "name": "stdout",
     "output_type": "stream",
     "text": [
      "Erreur avec |start: |start\n",
      "Erreur avec |switch|p1a: Incineroar|Incineroar, L82, F|290/290: |switch|p1a: Incineroar|Incineroar, L82, F|290/290\n",
      "Erreur avec |switch|p2a: Vaporeon|Vaporeon, L84, M|356/356: |switch|p2a: Vaporeon|Vaporeon, L84, M|356/356\n",
      "Erreur avec |-ability|p1a: Incineroar|Intimidate|boost: |-ability|p1a: Incineroar|Intimidate|boost\n",
      "Erreur avec |-unboost|p2a: Vaporeon|atk|1: |-unboost|p2a: Vaporeon|atk|1\n",
      "Erreur avec |turn|1: |turn|1\n",
      "Erreur avec |inactive|Battle timer is ON: inactive players will automatically lose when time's up. (requested by sushi8899): |inactive|Battle timer is ON: inactive players will automatically lose when time's up. (requested by sushi8899)\n",
      "Erreur avec |: string index out of range\n",
      "Erreur avec |switch|p1a: Rotom|Rotom-Mow, L84|221/221: |switch|p1a: Rotom|Rotom-Mow, L84|221/221\n",
      "Erreur avec |move|p2a: Vaporeon|Toxic|p1a: Rotom: |move|p2a: Vaporeon|Toxic|p1a: Rotom\n",
      "Erreur avec |-status|p1a: Rotom|tox: |-status|p1a: Rotom|tox\n",
      "Erreur avec |: string index out of range\n",
      "Erreur avec |-damage|p1a: Rotom|208/221 tox|[from] psn: |-damage|p1a: Rotom|208/221 tox|[from] psn\n",
      "Erreur avec |upkeep: |upkeep\n",
      "Erreur avec |turn|2: |turn|2\n",
      "🟢 Pokémon actif (p1) :\n",
      "Aucun Pokémon actif côté p1\n",
      "\n",
      "🔴 Pokémon adverse (p2) :\n",
      "Aucun Pokémon actif côté p2\n",
      "\n",
      "✅ Label pour le tour 1 (action p1) : switch\n"
     ]
    }
   ],
   "source": [
    "from poke_env.environment.battle import Battle\n",
    "\n",
    "with open(\"data/first_replay.txt\", \"r\", encoding=\"utf-8\") as f:\n",
    "    lines = f.readlines()\n",
    "\n",
    "# Extraire les lignes depuis |start jusqu'à |turn|2\n",
    "battle_lines = []\n",
    "in_battle = False\n",
    "for line in lines:\n",
    "    if \"|start\" in line:\n",
    "        in_battle = True\n",
    "    if in_battle:\n",
    "        battle_lines.append(line.strip())\n",
    "    if \"|turn|2\" in line:\n",
    "        break\n",
    "\n",
    "# Créer un objet Battle avec un logger vide\n",
    "battle = Battle(\"replay-test\", \"p1\", logger=None, gen=\"8\")\n",
    "\n",
    "# Parser les lignes pour initialiser l'état\n",
    "for msg in battle_lines:\n",
    "    try:\n",
    "        battle.parse_message(msg)\n",
    "    except Exception as e:\n",
    "        print(f\"Erreur avec {msg}: {e}\")\n",
    "\n",
    "# Affichage des états des Pokémon\n",
    "print(\"🟢 Pokémon actif (p1) :\")\n",
    "if battle.active_pokemon:\n",
    "    print(f\"Nom : {battle.active_pokemon.species}\")\n",
    "    print(f\"HP : {battle.active_pokemon.current_hp_fraction * 100:.1f}%\")\n",
    "    print(f\"Status : {battle.active_pokemon.status}\")\n",
    "else:\n",
    "    print(\"Aucun Pokémon actif côté p1\")\n",
    "\n",
    "print(\"\\n🔴 Pokémon adverse (p2) :\")\n",
    "if battle.opponent_active_pokemon:\n",
    "    print(f\"Nom : {battle.opponent_active_pokemon.species}\")\n",
    "    print(f\"HP : {battle.opponent_active_pokemon.current_hp_fraction * 100:.1f}%\")\n",
    "    print(f\"Status : {battle.opponent_active_pokemon.status}\")\n",
    "else:\n",
    "    print(\"Aucun Pokémon actif côté p2\")\n",
    "\n",
    "# Extraire le label (action faite par p1)\n",
    "label = None\n",
    "for msg in battle_lines:\n",
    "    if msg.startswith(\"|turn|1\"):\n",
    "        in_turn = True\n",
    "        continue\n",
    "    elif msg.startswith(\"|turn|2\"):\n",
    "        break\n",
    "    elif msg.startswith(\"|switch|p1a:\"):\n",
    "        label = \"switch\"\n",
    "        break\n",
    "    elif msg.startswith(\"|move|p1a:\"):\n",
    "        label = \"move\"\n",
    "        break\n",
    "\n",
    "print(f\"\\n✅ Label pour le tour 1 (action p1) : {label}\")\n",
    "\n",
    "\n",
    "\n"
   ]
  },
  {
   "cell_type": "code",
   "execution_count": 1,
   "metadata": {
    "vscode": {
     "languageId": "python"
    }
   },
   "outputs": [],
   "source": [
    "from poke_env.player.random_player import RandomPlayer\n",
    "\n",
    "player_1 = RandomPlayer(battle_format=\"gen8randombattle\")\n",
    "player_2 = RandomPlayer(battle_format=\"gen8randombattle\")\n"
   ]
  },
  {
   "cell_type": "code",
   "execution_count": 2,
   "metadata": {
    "vscode": {
     "languageId": "python"
    }
   },
   "outputs": [
    {
     "name": "stderr",
     "output_type": "stream",
     "text": [
      "2025-03-24 20:56:44,043 - RandomPlayer 1 - WARNING - Popup message received: |popup|The user '<poke_env.player.random_player.RandomPlayer object at 0x1067ca010>' was not found.\n"
     ]
    }
   ],
   "source": [
    "import asyncio\n",
    "import nest_asyncio\n",
    "\n",
    "nest_asyncio.apply()\n",
    "\n",
    "async def run_battle():\n",
    "    await player_1.send_challenges(player_2, n_challenges=1)\n",
    "\n",
    "    while not player_1.battles:\n",
    "        await asyncio.sleep(0.1)\n",
    "\n",
    "    battle = list(player_1.battles.values())[0]\n",
    "\n",
    "    while battle.turn == 0:\n",
    "        await asyncio.sleep(0.1)\n",
    "\n",
    "    vector = player_1.embed_battle(battle)\n",
    "    print(\"✅ embed_battle :\")\n",
    "    print(\"Type :\", type(vector))\n",
    "    print(\"Shape :\", vector.shape)\n",
    "    print(\"Extrait :\", vector[:10])\n",
    "\n",
    "await run_battle()\n",
    "\n",
    "\n",
    "\n"
   ]
  },
  {
   "attachments": {},
   "cell_type": "markdown",
   "metadata": {},
   "source": [
    "C'est galère, je vais d'abord voir comment fonctionnent les embeddings de vecteurs d'apprentissage et ensuite on rrevient ici. Il semble qu'on a as vraiment besoin de passer du texte à battle, car on utilise ensuite l'objet battle pour construire un vecteur vraiment très simple (avec les mooves, le poke actif, les multiplieurs de dégâts), donc il faut à mon avis juste passer du .txt au vecteur encoding et ça sera peut-être pas si dur. Enfin sauf pour ce qui est de connaitre la puissance des mooves etc.. car elle est pas donné. On va construire plusieurs df : \n",
    "- df des sets possibles, des mooves, stats, résistances/faiblesses, de chaque poké du gen8randombattle (car très pratique pour après je pense)\n",
    "- df des mooves et leurs BP (pour passer du replay au vecteur embbed)"
   ]
  }
 ],
 "metadata": {
  "kernelspec": {
   "display_name": "Python (showdown)",
   "language": "python",
   "name": "showdown"
  },
  "orig_nbformat": 4,
  "vscode": {
   "interpreter": {
    "hash": "6e161f0699369ea7610fedd595d516a82e16e811f23299c8bda39f38da8d9b51"
   }
  }
 },
 "nbformat": 4,
 "nbformat_minor": 2
}
