{
 "cells": [
  {
   "cell_type": "code",
   "execution_count": 1,
   "metadata": {},
   "outputs": [],
   "source": [
    "import poke_env\n",
    "import pandas as pd"
   ]
  },
  {
   "cell_type": "code",
   "execution_count": 8,
   "metadata": {},
   "outputs": [
    {
     "name": "stdout",
     "output_type": "stream",
     "text": [
      "Index(['pokemon', 'level', 'abilities', 'items', 'moves', 'evs', 'ivs'], dtype='object')\n"
     ]
    },
    {
     "data": {
      "text/html": [
       "<div>\n",
       "<style scoped>\n",
       "    .dataframe tbody tr th:only-of-type {\n",
       "        vertical-align: middle;\n",
       "    }\n",
       "\n",
       "    .dataframe tbody tr th {\n",
       "        vertical-align: top;\n",
       "    }\n",
       "\n",
       "    .dataframe thead th {\n",
       "        text-align: right;\n",
       "    }\n",
       "</style>\n",
       "<table border=\"1\" class=\"dataframe\">\n",
       "  <thead>\n",
       "    <tr style=\"text-align: right;\">\n",
       "      <th></th>\n",
       "      <th>pokemon</th>\n",
       "      <th>level</th>\n",
       "      <th>abilities</th>\n",
       "      <th>items</th>\n",
       "      <th>moves</th>\n",
       "      <th>evs</th>\n",
       "      <th>ivs</th>\n",
       "    </tr>\n",
       "  </thead>\n",
       "  <tbody>\n",
       "    <tr>\n",
       "      <th>0</th>\n",
       "      <td>Abomasnow</td>\n",
       "      <td>83</td>\n",
       "      <td>[Snow Warning]</td>\n",
       "      <td>[Assault Vest, Light Clay]</td>\n",
       "      <td>[Aurora Veil, Blizzard, Earthquake, Ice Shard,...</td>\n",
       "      <td>NaN</td>\n",
       "      <td>NaN</td>\n",
       "    </tr>\n",
       "    <tr>\n",
       "      <th>1</th>\n",
       "      <td>Absol</td>\n",
       "      <td>84</td>\n",
       "      <td>[Justified]</td>\n",
       "      <td>[Choice Band, Focus Sash, Life Orb]</td>\n",
       "      <td>[Close Combat, Knock Off, Play Rough, Sucker P...</td>\n",
       "      <td>NaN</td>\n",
       "      <td>NaN</td>\n",
       "    </tr>\n",
       "    <tr>\n",
       "      <th>2</th>\n",
       "      <td>Accelgor</td>\n",
       "      <td>91</td>\n",
       "      <td>[Sticky Hold]</td>\n",
       "      <td>[Choice Specs, Focus Sash, Heavy-Duty Boots, L...</td>\n",
       "      <td>[Bug Buzz, Energy Ball, Focus Blast, Sludge Bo...</td>\n",
       "      <td>{'atk': 0}</td>\n",
       "      <td>{'atk': 0}</td>\n",
       "    </tr>\n",
       "    <tr>\n",
       "      <th>3</th>\n",
       "      <td>Aegislash</td>\n",
       "      <td>79</td>\n",
       "      <td>[Stance Change]</td>\n",
       "      <td>[Leftovers, Life Orb]</td>\n",
       "      <td>[Close Combat, Flash Cannon, King's Shield, Sh...</td>\n",
       "      <td>NaN</td>\n",
       "      <td>NaN</td>\n",
       "    </tr>\n",
       "    <tr>\n",
       "      <th>4</th>\n",
       "      <td>Aegislash-Blade</td>\n",
       "      <td>79</td>\n",
       "      <td>[Stance Change]</td>\n",
       "      <td>[Choice Band, Life Orb]</td>\n",
       "      <td>[Close Combat, Iron Head, Shadow Claw, Shadow ...</td>\n",
       "      <td>NaN</td>\n",
       "      <td>NaN</td>\n",
       "    </tr>\n",
       "  </tbody>\n",
       "</table>\n",
       "</div>"
      ],
      "text/plain": [
       "           pokemon  level        abilities  \\\n",
       "0        Abomasnow     83   [Snow Warning]   \n",
       "1            Absol     84      [Justified]   \n",
       "2         Accelgor     91    [Sticky Hold]   \n",
       "3        Aegislash     79  [Stance Change]   \n",
       "4  Aegislash-Blade     79  [Stance Change]   \n",
       "\n",
       "                                               items  \\\n",
       "0                         [Assault Vest, Light Clay]   \n",
       "1                [Choice Band, Focus Sash, Life Orb]   \n",
       "2  [Choice Specs, Focus Sash, Heavy-Duty Boots, L...   \n",
       "3                              [Leftovers, Life Orb]   \n",
       "4                            [Choice Band, Life Orb]   \n",
       "\n",
       "                                               moves         evs         ivs  \n",
       "0  [Aurora Veil, Blizzard, Earthquake, Ice Shard,...         NaN         NaN  \n",
       "1  [Close Combat, Knock Off, Play Rough, Sucker P...         NaN         NaN  \n",
       "2  [Bug Buzz, Energy Ball, Focus Blast, Sludge Bo...  {'atk': 0}  {'atk': 0}  \n",
       "3  [Close Combat, Flash Cannon, King's Shield, Sh...         NaN         NaN  \n",
       "4  [Close Combat, Iron Head, Shadow Claw, Shadow ...         NaN         NaN  "
      ]
     },
     "execution_count": 8,
     "metadata": {},
     "output_type": "execute_result"
    }
   ],
   "source": [
    "import json\n",
    "import pandas as pd\n",
    "\n",
    "with open(\"data/pokemon_sets/gen8randombattle_sets.json\", \"r\") as f:\n",
    "    data = json.load(f)\n",
    "\n",
    "# Convertir en DataFrame\n",
    "df = pd.DataFrame.from_dict(data, orient='index').reset_index()\n",
    "df.rename(columns={\"index\": \"pokemon\"}, inplace=True)\n",
    "print(df.columns)\n",
    "# Aperçu\n",
    "df.head()"
   ]
  },
  {
   "attachments": {},
   "cell_type": "markdown",
   "metadata": {},
   "source": [
    "Je sais pas si je rajoute les faiblesses/stats, étant donné qu'elles peuvent déjà être accédées via la classe Pokémon. Donc pour l'instant je laisse comme ça. \n",
    "Rq : on utilisera pas les colonnes evs et ivs"
   ]
  },
  {
   "cell_type": "code",
   "execution_count": 13,
   "metadata": {},
   "outputs": [
    {
     "name": "stdout",
     "output_type": "stream",
     "text": [
      "pokemon                                              Amoonguss\n",
      "level                                                       83\n",
      "abilities                                        [Regenerator]\n",
      "items                                           [Black Sludge]\n",
      "moves        [Giga Drain, Sludge Bomb, Spore, Synthesis, To...\n",
      "evs                                                 {'atk': 0}\n",
      "ivs                                                 {'atk': 0}\n",
      "Name: 10, dtype: object\n"
     ]
    }
   ],
   "source": [
    "print(df.iloc[10])"
   ]
  },
  {
   "attachments": {},
   "cell_type": "markdown",
   "metadata": {},
   "source": [
    ".iloc pour la ligne et ['column_name'] pour la colonne"
   ]
  },
  {
   "cell_type": "code",
   "execution_count": 17,
   "metadata": {},
   "outputs": [
    {
     "name": "stdout",
     "output_type": "stream",
     "text": [
      "<class 'str'>\n",
      "<class 'numpy.int64'>\n",
      "<class 'list'>\n",
      "<class 'list'>\n",
      "<class 'list'>\n",
      "<class 'dict'>\n",
      "<class 'dict'>\n"
     ]
    }
   ],
   "source": [
    "for i in df.columns :\n",
    "\n",
    "    print(type(df[i].iloc[10]))"
   ]
  },
  {
   "cell_type": "code",
   "execution_count": 19,
   "metadata": {},
   "outputs": [
    {
     "name": "stdout",
     "output_type": "stream",
     "text": [
      "<class 'str'>\n"
     ]
    }
   ],
   "source": [
    "print((type(df['moves'].iloc[10][0])))"
   ]
  },
  {
   "attachments": {},
   "cell_type": "markdown",
   "metadata": {},
   "source": [
    "Voila les types de chaque colonne : \n",
    "pokemon = 'str'\n",
    "level = 'int64'\n",
    "abilities/items/moves = 'listes de 'str''\n",
    "evs/ivs = 'dict'"
   ]
  }
 ],
 "metadata": {
  "kernelspec": {
   "display_name": "Python (showdown)",
   "language": "python",
   "name": "showdown"
  },
  "orig_nbformat": 4,
  "vscode": {
   "interpreter": {
    "hash": "0b41524539ae4e093a44727da96dd0dc57b0f34977793613abf706ca11f8f591"
   }
  }
 },
 "nbformat": 4,
 "nbformat_minor": 2
}
