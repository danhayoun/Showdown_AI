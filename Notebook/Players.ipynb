{
 "cells": [
  {
   "attachments": {},
   "cell_type": "markdown",
   "metadata": {},
   "source": [
    "***Player Embedd1***"
   ]
  },
  {
   "cell_type": "code",
   "execution_count": 1,
   "metadata": {},
   "outputs": [],
   "source": [
    "import stable_baselines3\n",
    "import pandas as pd\n",
    "from Players.Embedding1Player import EmbeddingTestPlayervsHuman, EmbeddingTestPlayervsBot\n",
    "import asyncio\n",
    "from poke_env import LocalhostServerConfiguration\n",
    "from poke_env import AccountConfiguration\n"
   ]
  },
  {
   "cell_type": "code",
   "execution_count": 6,
   "metadata": {},
   "outputs": [
    {
     "name": "stdout",
     "output_type": "stream",
     "text": [
      "📥 Modèle chargé depuis Players/embedding_1\n"
     ]
    }
   ],
   "source": [
    "account_conf = AccountConfiguration(\"Embedding1Player\", \"password\")\n",
    "bot = EmbeddingTestPlayervsHuman(model_path=\"Players/embedding_1\",battle_format=\"gen8randombattle\",account_configuration=account_conf)"
   ]
  },
  {
   "cell_type": "code",
   "execution_count": 7,
   "metadata": {},
   "outputs": [
    {
     "name": "stdout",
     "output_type": "stream",
     "text": [
      "👉 choose_move appelée !\n",
      "🔍 Moves disponibles : ['thunderbolt', 'calmmind', 'dazzlinggleam', 'substitute']\n",
      "👉 choose_move appelée !\n",
      "🔍 Moves disponibles : []\n",
      "👉 choose_move appelée !\n",
      "🔍 Moves disponibles : ['glare', 'roost', 'thunderbolt', 'dracometeor']\n",
      "👉 choose_move appelée !\n",
      "🔍 Moves disponibles : ['glare', 'roost', 'thunderbolt', 'dracometeor']\n",
      "👉 choose_move appelée !\n",
      "🔍 Moves disponibles : ['glare', 'roost', 'thunderbolt', 'dracometeor']\n",
      "👉 choose_move appelée !\n",
      "🔍 Moves disponibles : []\n",
      "👉 choose_move appelée !\n",
      "🔍 Moves disponibles : ['uturn', 'copycat', 'playrough', 'knockoff']\n",
      "👉 choose_move appelée !\n",
      "🔍 Moves disponibles : []\n",
      "👉 choose_move appelée !\n",
      "🔍 Moves disponibles : ['thunderbolt', 'calmmind', 'dazzlinggleam', 'substitute']\n",
      "👉 choose_move appelée !\n",
      "🔍 Moves disponibles : []\n",
      "👉 choose_move appelée !\n",
      "🔍 Moves disponibles : ['uturn', 'copycat', 'playrough', 'knockoff']\n",
      "👉 choose_move appelée !\n",
      "🔍 Moves disponibles : ['playrough']\n",
      "👉 choose_move appelée !\n",
      "🔍 Moves disponibles : ['playrough']\n",
      "👉 choose_move appelée !\n",
      "🔍 Moves disponibles : []\n",
      "👉 choose_move appelée !\n",
      "🔍 Moves disponibles : ['flareblitz', 'bravebird', 'swordsdance', 'roost']\n",
      "👉 choose_move appelée !\n",
      "🔍 Moves disponibles : ['flareblitz', 'bravebird', 'swordsdance', 'roost']\n",
      "👉 choose_move appelée !\n",
      "🔍 Moves disponibles : []\n",
      "👉 choose_move appelée !\n",
      "🔍 Moves disponibles : ['stoneedge', 'ironhead', 'stealthrock', 'closecombat']\n",
      "👉 choose_move appelée !\n",
      "🔍 Moves disponibles : ['stoneedge', 'ironhead', 'stealthrock', 'closecombat']\n",
      "👉 choose_move appelée !\n",
      "🔍 Moves disponibles : ['stoneedge', 'ironhead', 'stealthrock', 'closecombat']\n",
      "👉 choose_move appelée !\n",
      "🔍 Moves disponibles : ['stoneedge', 'ironhead', 'stealthrock', 'closecombat']\n",
      "👉 choose_move appelée !\n",
      "🔍 Moves disponibles : ['stoneedge', 'ironhead', 'stealthrock', 'closecombat']\n"
     ]
    }
   ],
   "source": [
    "await bot.send_challenges(\"[NAME]\", n_challenges=1)"
   ]
  },
  {
   "attachments": {},
   "cell_type": "markdown",
   "metadata": {},
   "source": [
    "***Player DQ_simple***"
   ]
  },
  {
   "cell_type": "code",
   "execution_count": 14,
   "metadata": {},
   "outputs": [
    {
     "name": "stdout",
     "output_type": "stream",
     "text": [
      "📥 Modèle DQN chargé : <stable_baselines3.dqn.dqn.DQN object at 0x16e30b110>\n"
     ]
    }
   ],
   "source": [
    "from Players.DQ_simple import DQ_simple\n",
    "bott_player = DQ_simple()"
   ]
  },
  {
   "cell_type": "code",
   "execution_count": null,
   "metadata": {},
   "outputs": [],
   "source": [
    "await bott_player.send_challenges(\"[NAME]\", n_challenges=1)"
   ]
  }
 ],
 "metadata": {
  "kernelspec": {
   "display_name": "Python (showdown)",
   "language": "python",
   "name": "showdown"
  },
  "language_info": {
   "codemirror_mode": {
    "name": "ipython",
    "version": 3
   },
   "file_extension": ".py",
   "mimetype": "text/x-python",
   "name": "python",
   "nbconvert_exporter": "python",
   "pygments_lexer": "ipython3",
   "version": "3.11.6"
  },
  "orig_nbformat": 4
 },
 "nbformat": 4,
 "nbformat_minor": 2
}
