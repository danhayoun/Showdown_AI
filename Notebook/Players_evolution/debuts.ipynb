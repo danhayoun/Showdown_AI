{
 "cells": [
  {
   "attachments": {},
   "cell_type": "markdown",
   "metadata": {},
   "source": [
    "Player : class\n",
    "Battle : class"
   ]
  },
  {
   "attachments": {},
   "cell_type": "markdown",
   "metadata": {},
   "source": [
    "Méthodes : \n",
    "choose_move(self, battle: Battle) -> str\n",
    "\n",
    "embed_battle : Permet d'avoir l'état du match avec les pokés adverses, les base power des moves, les multiplicateurs de dégâts (effectiveness), le nombre de pokés debout dans l'équipe adverse"
   ]
  },
  {
   "attachments": {},
   "cell_type": "markdown",
   "metadata": {},
   "source": [
    "Objets : \n",
    "Battle : fournit active_pokemon, available_moves, available_switches, opponent_active_pokemon, opponent_team, and team\n",
    "\n",
    "Move : moves possibles au prochain tour\n",
    "Pokémon : .types renvoit ses types,\n",
    "Teambuilder : nécessite une méthode : yield_team "
   ]
  },
  {
   "cell_type": "code",
   "execution_count": 3,
   "metadata": {},
   "outputs": [],
   "source": [
    "import sys\n",
    "\n",
    "sys.path.append(\"../src\")"
   ]
  },
  {
   "cell_type": "code",
   "execution_count": 10,
   "metadata": {},
   "outputs": [],
   "source": [
    "from poke_env import Player, ServerConfiguration"
   ]
  },
  {
   "cell_type": "code",
   "execution_count": 5,
   "metadata": {},
   "outputs": [],
   "source": [
    "from poke_env import RandomPlayer\n",
    "from poke_env.data import GenData\n",
    "\n",
    "# The RandomPlayer is a basic agent that makes decisions randomly,\n",
    "# serving as a starting point for more complex agent development.\n",
    "random_player = RandomPlayer()"
   ]
  },
  {
   "cell_type": "code",
   "execution_count": 8,
   "metadata": {},
   "outputs": [],
   "source": [
    "second_player = RandomPlayer()\n",
    "\n",
    "# The battle_against method initiates a battle between two players.\n",
    "# Here we are using asynchronous programming (await) to start the battle.\n",
    "await random_player.battle_against(second_player, n_battles=1)"
   ]
  },
  {
   "cell_type": "code",
   "execution_count": 9,
   "metadata": {},
   "outputs": [
    {
     "name": "stdout",
     "output_type": "stream",
     "text": [
      "Player RandomPlayer 2 won 0 out of 2 played\n",
      "Player RandomPlayer 4 won 1 out of 1 played\n",
      "battle-gen9randombattle-12 False\n",
      "battle-gen9randombattle-13 False\n"
     ]
    }
   ],
   "source": [
    "# n_won_battles and n_finished_battles\n",
    "\n",
    "print(\n",
    "    f\"Player {random_player.username} won {random_player.n_won_battles} out of {random_player.n_finished_battles} played\"\n",
    ")\n",
    "print(\n",
    "    f\"Player {second_player.username} won {second_player.n_won_battles} out of {second_player.n_finished_battles} played\"\n",
    ")\n",
    "\n",
    "# Looping over battles\n",
    "\n",
    "for battle_tag, battle in random_player.battles.items():\n",
    "    print(battle_tag, battle.won)"
   ]
  },
  {
   "cell_type": "code",
   "execution_count": 12,
   "metadata": {},
   "outputs": [],
   "source": [
    "from poke_env.player import Player\n",
    "\n",
    "\n",
    "class MaxDamagePlayer(Player):\n",
    "    def choose_move(self, battle):\n",
    "        # Chooses a move with the highest base power when possible\n",
    "        if battle.available_moves:\n",
    "            # Iterating over available moves to find the one with the highest base power\n",
    "            best_move = max(battle.available_moves, key=lambda move: move.base_power)\n",
    "            # Creating an order for the selected move\n",
    "            return self.create_order(best_move)\n",
    "        else:\n",
    "            # If no attacking move is available, perform a random switch\n",
    "            # This involves choosing a random move, which could be a switch or another available action\n",
    "            return self.choose_random_move(battle)"
   ]
  },
  {
   "cell_type": "code",
   "execution_count": 20,
   "metadata": {},
   "outputs": [],
   "source": [
    "player_4 = MaxDamagePlayer(avatar = 'ash',max_concurrent_battles=0)"
   ]
  },
  {
   "cell_type": "code",
   "execution_count": 25,
   "metadata": {},
   "outputs": [],
   "source": [
    "await player_4.battle_against(second_player, n_battles=1)"
   ]
  },
  {
   "cell_type": "code",
   "execution_count": null,
   "metadata": {},
   "outputs": [],
   "source": [
    "#Sélectionner une team au hasard dans la liste : \n",
    "import numpy as np\n",
    "\n",
    "from poke_env.teambuilder import Teambuilder\n",
    "\n",
    "\n",
    "class RandomTeamFromPool(Teambuilder):\n",
    "    def __init__(self, teams):\n",
    "        self.packed_teams = []\n",
    "\n",
    "        for team in teams:\n",
    "            parsed_team = self.parse_showdown_team(team)\n",
    "            packed_team = self.join_team(parsed_team)\n",
    "            self.packed_teams.append(packed_team)\n",
    "\n",
    "    def yield_team(self):\n",
    "        return np.random.choice(self.packed_teams)"
   ]
  },
  {
   "cell_type": "code",
   "execution_count": null,
   "metadata": {},
   "outputs": [],
   "source": [
    "team_1 = \"\"\"\n",
    "Goodra (M) @ Assault Vest\n",
    "Ability: Sap Sipper\n",
    "EVs: 248 HP / 252 SpA / 8 Spe\n",
    "Modest Nature\n",
    "IVs: 0 Atk\n",
    "- Dragon Pulse\n",
    "- Flamethrower\n",
    "- Sludge Wave\n",
    "- Thunderbolt\n",
    "\n",
    "Sylveon (M) @ Leftovers\n",
    "Ability: Pixilate\n",
    "EVs: 248 HP / 244 Def / 16 SpD\n",
    "Calm Nature\n",
    "IVs: 0 Atk\n",
    "- Hyper Voice\n",
    "- Mystical Fire\n",
    "- Protect\n",
    "- Wish\n",
    "\n",
    "Cinderace (M) @ Life Orb\n",
    "Ability: Blaze\n",
    "EVs: 252 Atk / 4 SpD / 252 Spe\n",
    "Jolly Nature\n",
    "- Pyro Ball\n",
    "- Sucker Punch\n",
    "- U-turn\n",
    "- High Jump Kick\n",
    "\n",
    "Toxtricity (M) @ Throat Spray\n",
    "Ability: Punk Rock\n",
    "EVs: 4 Atk / 252 SpA / 252 Spe\n",
    "Rash Nature\n",
    "- Overdrive\n",
    "- Boomburst\n",
    "- Shift Gear\n",
    "- Fire Punch\n",
    "\n",
    "Seismitoad (M) @ Leftovers\n",
    "Ability: Water Absorb\n",
    "EVs: 252 HP / 252 Def / 4 SpD\n",
    "Relaxed Nature\n",
    "- Stealth Rock\n",
    "- Scald\n",
    "- Earthquake\n",
    "- Toxic\n",
    "\n",
    "Corviknight (M) @ Leftovers\n",
    "Ability: Pressure\n",
    "EVs: 248 HP / 80 SpD / 180 Spe\n",
    "Impish Nature\n",
    "- Defog\n",
    "- Brave Bird\n",
    "- Roost\n",
    "- U-turn\n",
    "\"\"\"\n",
    "\n",
    "team_2 = \"\"\"\n",
    "Togekiss @ Leftovers\n",
    "Ability: Serene Grace\n",
    "EVs: 248 HP / 8 SpA / 252 Spe\n",
    "Timid Nature\n",
    "IVs: 0 Atk\n",
    "- Air Slash\n",
    "- Nasty Plot\n",
    "- Substitute\n",
    "- Thunder Wave\n",
    "\n",
    "Galvantula @ Focus Sash\n",
    "Ability: Compound Eyes\n",
    "EVs: 252 SpA / 4 SpD / 252 Spe\n",
    "Timid Nature\n",
    "IVs: 0 Atk\n",
    "- Sticky Web\n",
    "- Thunder Wave\n",
    "- Thunder\n",
    "- Energy Ball\n",
    "\n",
    "Cloyster @ Leftovers\n",
    "Ability: Skill Link\n",
    "EVs: 252 Atk / 4 SpD / 252 Spe\n",
    "Adamant Nature\n",
    "- Icicle Spear\n",
    "- Rock Blast\n",
    "- Ice Shard\n",
    "- Shell Smash\n",
    "\n",
    "Sandaconda @ Focus Sash\n",
    "Ability: Sand Spit\n",
    "EVs: 252 Atk / 4 SpD / 252 Spe\n",
    "Jolly Nature\n",
    "- Stealth Rock\n",
    "- Glare\n",
    "- Earthquake\n",
    "- Rock Tomb\n",
    "\n",
    "Excadrill @ Focus Sash\n",
    "Ability: Sand Rush\n",
    "EVs: 252 Atk / 4 SpD / 252 Spe\n",
    "Adamant Nature\n",
    "- Iron Head\n",
    "- Rock Slide\n",
    "- Earthquake\n",
    "- Rapid Spin\n",
    "\n",
    "Cinccino @ Leftovers\n",
    "Ability: Skill Link\n",
    "EVs: 252 Atk / 4 Def / 252 Spe\n",
    "Jolly Nature\n",
    "- Bullet Seed\n",
    "- Knock Off\n",
    "- Rock Blast\n",
    "- Tail Slap\n",
    "\"\"\"\n",
    "\n",
    "teams = [team_1, team_2]"
   ]
  }
 ],
 "metadata": {
  "kernelspec": {
   "display_name": "showdown",
   "language": "python",
   "name": "python3"
  },
  "language_info": {
   "codemirror_mode": {
    "name": "ipython",
    "version": 3
   },
   "file_extension": ".py",
   "mimetype": "text/x-python",
   "name": "python",
   "nbconvert_exporter": "python",
   "pygments_lexer": "ipython3",
   "version": "3.12.2"
  },
  "orig_nbformat": 4,
  "vscode": {
   "interpreter": {
    "hash": "6e161f0699369ea7610fedd595d516a82e16e811f23299c8bda39f38da8d9b51"
   }
  }
 },
 "nbformat": 4,
 "nbformat_minor": 2
}
