{
 "cells": [
  {
   "cell_type": "code",
   "execution_count": 1,
   "metadata": {},
   "outputs": [],
   "source": [
    "# Entraînement du modèle\n",
    "#model.learn(total_timesteps=10000)\n",
    "\n",
    "# Sauvegarde du modèle\n",
    "#model.save(\"dqn_pokemon_showdown\")\n",
    "\n",
    "# Charger le modèle plus tard\n",
    "# model = DQN.load(\"dqn_pokemon_showdown\", env=train_env)"
   ]
  },
  {
   "cell_type": "code",
   "execution_count": 2,
   "metadata": {},
   "outputs": [
    {
     "name": "stdout",
     "output_type": "stream",
     "text": [
      "class RandomPlayer(Player):\n",
      "    def choose_move(self, battle: AbstractBattle) -> BattleOrder:\n",
      "        return self.choose_random_move(battle)\n",
      "\n"
     ]
    }
   ],
   "source": [
    "import inspect\n",
    "from poke_env.player import RandomPlayer\n",
    "\n",
    "print(inspect.getsource(RandomPlayer))\n"
   ]
  },
  {
   "cell_type": "code",
   "execution_count": 3,
   "metadata": {},
   "outputs": [],
   "source": [
    "from poke_env.player import Player\n",
    "import torch\n",
    "from stable_baselines3 import DQN\n",
    "from poke_env.data import GenData\n",
    "import numpy as np\n",
    "\n",
    "# Initialiser GenData pour la génération souhaitée (par exemple, génération 8)\n",
    "gen_data = GenData.from_gen(8)\n",
    "\n",
    "# Accéder au tableau des types\n",
    "type_chart = gen_data.type_chart\n",
    "\n",
    "class DQ_simple(Player):\n",
    "    def __init__(self,account_configuration,model_path = \"dqn_pokemon_showdown\", battle_format=\"gen8randombattle\") :\n",
    "        super().__init__(battle_format=battle_format,account_configuration=account_configuration)\n",
    "\n",
    "        # Charger le modèle DQN\n",
    "        self.model = DQN.load(model_path, device=\"mps\" if torch.backends.mps.is_available() else \"cpu\")\n",
    "        print(\"📥 Modèle DQN chargé :\", self.model)\n",
    "\n",
    "    def choose_move(self, battle):\n",
    "        print(\"👉 choose_move appelée !\")\n",
    "        # 🔍 Debug : Voir les moves disponibles\n",
    "        print(f\"🔍 Moves disponibles : {[move.id for move in battle.available_moves]}\")\n",
    "\n",
    "        # Obtenir l'observation de l'état du combat\n",
    "        obs = self.embed_battle(battle)\n",
    "        print(\"📊 Observation de l'état :\", obs)\n",
    "\n",
    "        # Transformer en format PyTorch\n",
    "        obs_tensor = torch.tensor(obs, dtype=torch.float32).unsqueeze(0)\n",
    "        print(\"📊 Tensor pour le modèle :\", obs_tensor)\n",
    "\n",
    "        # Prédire l'action avec le modèle DQN\n",
    "        action = int(self.model.predict(obs_tensor, deterministic=True)[0])\n",
    "        print(\"🎯 Action choisie par DQN :\", action)\n",
    "        if 0 <= action < len(battle.available_moves):\n",
    "            move = battle.available_moves[action]\n",
    "            print(f\"✅ Move choisi : {move.id}\")\n",
    "\n",
    "            order = self.create_order(move)\n",
    "            print(f\"📤 Ordre créé : {order}\")  # Debug : voir l'ordre exact généré\n",
    "\n",
    "            return order\n",
    "        else:\n",
    "            print(f\"❌ Action {action} invalide, on joue un move aléatoire !\")\n",
    "            return self.choose_random_move(battle)\n",
    "    \n",
    "    def embed_battle(self, battle):\n",
    "        \"\"\"Transforme l'état du combat en une entrée utilisable par le modèle DQN.\"\"\"\n",
    "        moves_base_power = np.zeros(4)\n",
    "        moves_dmg_multiplier = np.ones(4)\n",
    "\n",
    "        for i, move in enumerate(battle.available_moves):\n",
    "            moves_base_power[i] = move.base_power / 100 if move.base_power else 0\n",
    "            if move.type:\n",
    "                moves_dmg_multiplier[i] = move.type.damage_multiplier(\n",
    "                    battle.opponent_active_pokemon.type_1,\n",
    "                    battle.opponent_active_pokemon.type_2,\n",
    "                    type_chart=type_chart\n",
    "                )\n",
    "\n",
    "        fainted_mon_team = len([mon for mon in battle.team.values() if mon.fainted]) / 6\n",
    "        fainted_mon_opponent = len([mon for mon in battle.opponent_team.values() if mon.fainted]) / 6\n",
    "\n",
    "        obs = np.concatenate([moves_base_power, moves_dmg_multiplier, [fainted_mon_team, fainted_mon_opponent]])\n",
    "        return np.float32(obs)\n"
   ]
  },
  {
   "cell_type": "code",
   "execution_count": 4,
   "metadata": {},
   "outputs": [
    {
     "name": "stdout",
     "output_type": "stream",
     "text": [
      "📥 Modèle DQN chargé : <stable_baselines3.dqn.dqn.DQN object at 0x13ea18050>\n"
     ]
    }
   ],
   "source": [
    "from poke_env import AccountConfiguration\n",
    "account_conf = AccountConfiguration(\"DQSimplePlayer\", \"password\")\n",
    "\n",
    "bott_player = DQ_simple(account_configuration=account_conf)"
   ]
  },
  {
   "cell_type": "code",
   "execution_count": 5,
   "metadata": {},
   "outputs": [
    {
     "name": "stdout",
     "output_type": "stream",
     "text": [
      "👉 choose_move appelée !\n",
      "🔍 Moves disponibles : ['closecombat', 'machpunch', 'facade', 'knockoff']\n",
      "📊 Observation de l'état : [1.2  0.4  0.7  0.65 0.5  0.5  1.   0.5  0.   0.  ]\n",
      "📊 Tensor pour le modèle : tensor([[1.2000, 0.4000, 0.7000, 0.6500, 0.5000, 0.5000, 1.0000, 0.5000, 0.0000,\n",
      "         0.0000]])\n",
      "🎯 Action choisie par DQN : 0\n",
      "✅ Move choisi : closecombat\n",
      "📤 Ordre créé : /choose move closecombat\n"
     ]
    },
    {
     "name": "stderr",
     "output_type": "stream",
     "text": [
      "/var/folders/h3/sk18hvh55gqbml8209nmkrlc0000gq/T/ipykernel_47133/472182631.py:35: DeprecationWarning: Conversion of an array with ndim > 0 to a scalar is deprecated, and will error in future. Ensure you extract a single element from your array before performing this operation. (Deprecated NumPy 1.25.)\n",
      "  action = int(self.model.predict(obs_tensor, deterministic=True)[0])\n"
     ]
    },
    {
     "name": "stdout",
     "output_type": "stream",
     "text": [
      "👉 choose_move appelée !\n",
      "🔍 Moves disponibles : ['closecombat', 'machpunch', 'facade', 'knockoff']\n",
      "📊 Observation de l'état : [1.2  0.4  0.7  0.65 0.5  0.5  1.   0.5  0.   0.  ]\n",
      "📊 Tensor pour le modèle : tensor([[1.2000, 0.4000, 0.7000, 0.6500, 0.5000, 0.5000, 1.0000, 0.5000, 0.0000,\n",
      "         0.0000]])\n",
      "🎯 Action choisie par DQN : 0\n",
      "✅ Move choisi : closecombat\n",
      "📤 Ordre créé : /choose move closecombat\n",
      "👉 choose_move appelée !\n",
      "🔍 Moves disponibles : []\n",
      "📊 Observation de l'état : [0.         0.         0.         0.         1.         1.\n",
      " 1.         1.         0.16666667 0.        ]\n",
      "📊 Tensor pour le modèle : tensor([[0.0000, 0.0000, 0.0000, 0.0000, 1.0000, 1.0000, 1.0000, 1.0000, 0.1667,\n",
      "         0.0000]])\n",
      "🎯 Action choisie par DQN : 7\n",
      "❌ Action 7 invalide, on joue un move aléatoire !\n",
      "👉 choose_move appelée !\n",
      "🔍 Moves disponibles : ['shellsmash', 'hydropump', 'iciclespear', 'rockblast']\n",
      "📊 Observation de l'état : [0.         1.1        0.25       0.25       1.         1.\n",
      " 2.         1.         0.16666667 0.        ]\n",
      "📊 Tensor pour le modèle : tensor([[0.0000, 1.1000, 0.2500, 0.2500, 1.0000, 1.0000, 2.0000, 1.0000, 0.1667,\n",
      "         0.0000]])\n",
      "🎯 Action choisie par DQN : 1\n",
      "✅ Move choisi : hydropump\n",
      "📤 Ordre créé : /choose move hydropump\n"
     ]
    }
   ],
   "source": [
    "await bott_player.send_challenges(\"[NAME]\", n_challenges=1)"
   ]
  }
 ],
 "metadata": {
  "kernelspec": {
   "display_name": "Python (showdown)",
   "language": "python",
   "name": "showdown"
  },
  "orig_nbformat": 4,
  "vscode": {
   "interpreter": {
    "hash": "455d2c1a4ef8d735c62ff6b7867677aa8f5a8db787748daaa4d34b19b9911963"
   }
  }
 },
 "nbformat": 4,
 "nbformat_minor": 2
}
