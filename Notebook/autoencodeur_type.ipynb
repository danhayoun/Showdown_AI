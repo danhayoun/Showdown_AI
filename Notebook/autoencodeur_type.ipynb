{
 "cells": [
  {
   "cell_type": "code",
   "execution_count": 1,
   "metadata": {},
   "outputs": [
    {
     "name": "stdout",
     "output_type": "stream",
     "text": [
      "Répertoire actuel : /Users/dan2/Desktop/Télécom-master-spé/Projets_perso/Deep/Showdown_AI/My_project\n"
     ]
    }
   ],
   "source": [
    "import os\n",
    "import ipynbname\n",
    "\n",
    "chemin_notebook = ipynbname.path()\n",
    "dossier_notebook = os.path.dirname(chemin_notebook)\n",
    "os.chdir(dossier_notebook)\n",
    "os.chdir('..')\n",
    "print(\"Répertoire actuel :\", os.getcwd())"
   ]
  },
  {
   "cell_type": "code",
   "execution_count": null,
   "metadata": {},
   "outputs": [],
   "source": [
    "from Utils.embedding import *"
   ]
  },
  {
   "cell_type": "code",
   "execution_count": null,
   "metadata": {},
   "outputs": [],
   "source": [
    "#On récupère les noms, on créé des objets pokemon avec, on récupère les types et leurs one-hot encoding et on a notre dataset.\n",
    "import json\n",
    "with open(\"data.json\", \"r\") as f:\n",
    "    data = json.load(f)\n",
    "\n",
    "# 1) Noms\n",
    "pokemon_names = list(data.keys())\n",
    "#print(pokemon_names)"
   ]
  },
  {
   "cell_type": "code",
   "execution_count": null,
   "metadata": {},
   "outputs": [],
   "source": [
    "from poke_env.environment.pokemon import Pokemon\n",
    "# 2) transormer en objets\n",
    "pokemons_list = [Pokemon(gen=8, species=i) for i in pokemon_names]"
   ]
  },
  {
   "cell_type": "code",
   "execution_count": null,
   "metadata": {},
   "outputs": [],
   "source": [
    "pokemon_types_list = [obtain_one_hot_vector_type(p) for p in pokemons_list]"
   ]
  },
  {
   "cell_type": "code",
   "execution_count": null,
   "metadata": {},
   "outputs": [],
   "source": [
    "class TypeAutoencoder(nn.Module):\n",
    "    def __init__(self, encoded_size=4):  # taille compressée ici\n",
    "        super().__init__()\n",
    "        self.encoder = nn.Sequential(\n",
    "            nn.Linear(18, 12),\n",
    "            nn.ReLU(),\n",
    "            nn.Linear(12, encoded_size)\n",
    "        )\n",
    "        self.decoder = nn.Sequential(\n",
    "            nn.Linear(encoded_size, 12),\n",
    "            nn.ReLU(),\n",
    "            nn.Linear(12, 18),\n",
    "            nn.Sigmoid()  # si tu normalises les entrées\n",
    "        )\n",
    "\n",
    "    def forward(self, x):\n",
    "        encoded = self.encoder(x)\n",
    "        decoded = self.decoder(encoded)\n",
    "        return decoded"
   ]
  },
  {
   "cell_type": "code",
   "execution_count": null,
   "metadata": {},
   "outputs": [],
   "source": [
    "#Entrainement autoencodeur\n",
    "import torch\n",
    "import torch.nn as nn\n",
    "import torch.optim as optim\n",
    "from torch.utils.data import DataLoader, TensorDataset\n",
    "\n",
    "# 1. Prépare tes données\n",
    "# Supposons que `vectors` est ta liste de vecteurs one-hot (chacun de taille 18)\n",
    "vectors_tensor = torch.tensor(pokemon_types_list, dtype=torch.float32)\n",
    "dataset = TensorDataset(vectors_tensor)\n",
    "dataloader = DataLoader(dataset, batch_size=32, shuffle=True)\n",
    "\n",
    "# 2. Initialise ton modèle, ta loss, ton optimizer\n",
    "encodeur_type = TypeAutoencoder(encoded_size=4) #Ou 3 ?\n",
    "criterion = nn.MSELoss()\n",
    "optimizer = optim.Adam(encodeur_type.parameters(), lr=1e-3)\n",
    "\n",
    "# 3. Entraînement\n",
    "epochs = 50\n",
    "for epoch in range(epochs):\n",
    "    total_loss = 0.0\n",
    "    for batch in dataloader:\n",
    "        inputs = batch[0]  # batch est un tuple (input,)\n",
    "        optimizer.zero_grad()\n",
    "        outputs = encodeur_type(inputs)\n",
    "        loss = criterion(outputs, inputs)  # reconstruction loss\n",
    "        loss.backward()\n",
    "        optimizer.step()\n",
    "        total_loss += loss.item()\n",
    "    \n",
    "    print(f\"Epoch {epoch+1}/{epochs} - Loss: {total_loss:.4f}\")"
   ]
  },
  {
   "cell_type": "code",
   "execution_count": null,
   "metadata": {},
   "outputs": [],
   "source": [
    "torch.save(encodeur_type.state_dict(), \"type_autoencoder.pth\")"
   ]
  }
 ],
 "metadata": {
  "kernelspec": {
   "display_name": "showdown_3",
   "language": "python",
   "name": "python3"
  },
  "language_info": {
   "codemirror_mode": {
    "name": "ipython",
    "version": 3
   },
   "file_extension": ".py",
   "mimetype": "text/x-python",
   "name": "python",
   "nbconvert_exporter": "python",
   "pygments_lexer": "ipython3",
   "version": "3.11.6"
  },
  "orig_nbformat": 4,
  "vscode": {
   "interpreter": {
    "hash": "455d2c1a4ef8d735c62ff6b7867677aa8f5a8db787748daaa4d34b19b9911963"
   }
  }
 },
 "nbformat": 4,
 "nbformat_minor": 2
}
